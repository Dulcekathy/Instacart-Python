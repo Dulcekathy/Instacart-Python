{
 "cells": [
  {
   "cell_type": "markdown",
   "id": "28c634d7",
   "metadata": {},
   "source": [
    "# 4.10 Exercise"
   ]
  },
  {
   "cell_type": "markdown",
   "id": "22a317ee",
   "metadata": {},
   "source": [
    "## Contents \n",
    "1. Importing libraries & dataframe\n",
    "2. Drop columns due to security implications \n",
    "3. Create a regional segmentation\n",
    "4. Create an exclusion flag for low-activity customers\n",
    "5. Customer profiles \n",
    "6. Create visualizations for distribution of profiles¶\n",
    "7. Aggregate \n",
    "8. Compare your customer profiles with regions and departments.¶ \n",
    "9. Export final data set"
   ]
  },
  {
   "cell_type": "markdown",
   "id": "1684892a",
   "metadata": {},
   "source": [
    "# 1. Importing libraries & dataframe"
   ]
  },
  {
   "cell_type": "code",
   "execution_count": 1,
   "id": "e7b7b870",
   "metadata": {},
   "outputs": [],
   "source": [
    "# Import libraries\n",
    "import pandas as pd\n",
    "import numpy as np\n",
    "import os\n",
    "import matplotlib.pyplot as plt\n",
    "import seaborn as sns\n",
    "import scipy"
   ]
  },
  {
   "cell_type": "code",
   "execution_count": 2,
   "id": "3d15212c",
   "metadata": {},
   "outputs": [
    {
     "data": {
      "text/plain": [
       "'/Users/katherinevaldivia/Desktop/Career Foundry Data Analytics Course work/Data Analytics Immersion/Achievement 4/06-23-Instacart Basket Analysis /'"
      ]
     },
     "execution_count": 2,
     "metadata": {},
     "output_type": "execute_result"
    }
   ],
   "source": [
    "# Folder path\n",
    "path = '/Users/katherinevaldivia/Desktop/Career Foundry Data Analytics Course work/Data Analytics Immersion/Achievement 4/06-23-Instacart Basket Analysis /'\n",
    "path"
   ]
  },
  {
   "cell_type": "code",
   "execution_count": 4,
   "id": "5c3fb2b8",
   "metadata": {},
   "outputs": [
    {
     "data": {
      "text/html": [
       "<div>\n",
       "<style scoped>\n",
       "    .dataframe tbody tr th:only-of-type {\n",
       "        vertical-align: middle;\n",
       "    }\n",
       "\n",
       "    .dataframe tbody tr th {\n",
       "        vertical-align: top;\n",
       "    }\n",
       "\n",
       "    .dataframe thead th {\n",
       "        text-align: right;\n",
       "    }\n",
       "</style>\n",
       "<table border=\"1\" class=\"dataframe\">\n",
       "  <thead>\n",
       "    <tr style=\"text-align: right;\">\n",
       "      <th></th>\n",
       "      <th>order_id</th>\n",
       "      <th>user_id</th>\n",
       "      <th>order_number</th>\n",
       "      <th>order_day_of_week</th>\n",
       "      <th>order_hour_of_day</th>\n",
       "      <th>days_since_last_order</th>\n",
       "      <th>product_id</th>\n",
       "      <th>add_to_cart_order</th>\n",
       "      <th>reordered</th>\n",
       "      <th>Unnamed: 0_y</th>\n",
       "      <th>...</th>\n",
       "      <th>order_frequency_flag</th>\n",
       "      <th>First Name</th>\n",
       "      <th>Last Name</th>\n",
       "      <th>Gender</th>\n",
       "      <th>State</th>\n",
       "      <th>Age</th>\n",
       "      <th>Date_joined</th>\n",
       "      <th>Number_of_dependants</th>\n",
       "      <th>Marital_status</th>\n",
       "      <th>Income</th>\n",
       "    </tr>\n",
       "  </thead>\n",
       "  <tbody>\n",
       "    <tr>\n",
       "      <th>0</th>\n",
       "      <td>2539329</td>\n",
       "      <td>1</td>\n",
       "      <td>1</td>\n",
       "      <td>2</td>\n",
       "      <td>8</td>\n",
       "      <td>NaN</td>\n",
       "      <td>196</td>\n",
       "      <td>1</td>\n",
       "      <td>0</td>\n",
       "      <td>195</td>\n",
       "      <td>...</td>\n",
       "      <td>Non-frequent customer</td>\n",
       "      <td>Linda</td>\n",
       "      <td>Nguyen</td>\n",
       "      <td>Female</td>\n",
       "      <td>Alabama</td>\n",
       "      <td>31</td>\n",
       "      <td>2/17/2019</td>\n",
       "      <td>3</td>\n",
       "      <td>married</td>\n",
       "      <td>40423</td>\n",
       "    </tr>\n",
       "    <tr>\n",
       "      <th>1</th>\n",
       "      <td>2398795</td>\n",
       "      <td>1</td>\n",
       "      <td>2</td>\n",
       "      <td>3</td>\n",
       "      <td>7</td>\n",
       "      <td>15.0</td>\n",
       "      <td>196</td>\n",
       "      <td>1</td>\n",
       "      <td>1</td>\n",
       "      <td>195</td>\n",
       "      <td>...</td>\n",
       "      <td>Non-frequent customer</td>\n",
       "      <td>Linda</td>\n",
       "      <td>Nguyen</td>\n",
       "      <td>Female</td>\n",
       "      <td>Alabama</td>\n",
       "      <td>31</td>\n",
       "      <td>2/17/2019</td>\n",
       "      <td>3</td>\n",
       "      <td>married</td>\n",
       "      <td>40423</td>\n",
       "    </tr>\n",
       "    <tr>\n",
       "      <th>2</th>\n",
       "      <td>473747</td>\n",
       "      <td>1</td>\n",
       "      <td>3</td>\n",
       "      <td>3</td>\n",
       "      <td>12</td>\n",
       "      <td>21.0</td>\n",
       "      <td>196</td>\n",
       "      <td>1</td>\n",
       "      <td>1</td>\n",
       "      <td>195</td>\n",
       "      <td>...</td>\n",
       "      <td>Non-frequent customer</td>\n",
       "      <td>Linda</td>\n",
       "      <td>Nguyen</td>\n",
       "      <td>Female</td>\n",
       "      <td>Alabama</td>\n",
       "      <td>31</td>\n",
       "      <td>2/17/2019</td>\n",
       "      <td>3</td>\n",
       "      <td>married</td>\n",
       "      <td>40423</td>\n",
       "    </tr>\n",
       "    <tr>\n",
       "      <th>3</th>\n",
       "      <td>2254736</td>\n",
       "      <td>1</td>\n",
       "      <td>4</td>\n",
       "      <td>4</td>\n",
       "      <td>7</td>\n",
       "      <td>29.0</td>\n",
       "      <td>196</td>\n",
       "      <td>1</td>\n",
       "      <td>1</td>\n",
       "      <td>195</td>\n",
       "      <td>...</td>\n",
       "      <td>Non-frequent customer</td>\n",
       "      <td>Linda</td>\n",
       "      <td>Nguyen</td>\n",
       "      <td>Female</td>\n",
       "      <td>Alabama</td>\n",
       "      <td>31</td>\n",
       "      <td>2/17/2019</td>\n",
       "      <td>3</td>\n",
       "      <td>married</td>\n",
       "      <td>40423</td>\n",
       "    </tr>\n",
       "    <tr>\n",
       "      <th>4</th>\n",
       "      <td>431534</td>\n",
       "      <td>1</td>\n",
       "      <td>5</td>\n",
       "      <td>4</td>\n",
       "      <td>15</td>\n",
       "      <td>28.0</td>\n",
       "      <td>196</td>\n",
       "      <td>1</td>\n",
       "      <td>1</td>\n",
       "      <td>195</td>\n",
       "      <td>...</td>\n",
       "      <td>Non-frequent customer</td>\n",
       "      <td>Linda</td>\n",
       "      <td>Nguyen</td>\n",
       "      <td>Female</td>\n",
       "      <td>Alabama</td>\n",
       "      <td>31</td>\n",
       "      <td>2/17/2019</td>\n",
       "      <td>3</td>\n",
       "      <td>married</td>\n",
       "      <td>40423</td>\n",
       "    </tr>\n",
       "  </tbody>\n",
       "</table>\n",
       "<p>5 rows × 33 columns</p>\n",
       "</div>"
      ],
      "text/plain": [
       "   order_id  user_id  order_number  order_day_of_week  order_hour_of_day  \\\n",
       "0   2539329        1             1                  2                  8   \n",
       "1   2398795        1             2                  3                  7   \n",
       "2    473747        1             3                  3                 12   \n",
       "3   2254736        1             4                  4                  7   \n",
       "4    431534        1             5                  4                 15   \n",
       "\n",
       "   days_since_last_order  product_id  add_to_cart_order  reordered  \\\n",
       "0                    NaN         196                  1          0   \n",
       "1                   15.0         196                  1          1   \n",
       "2                   21.0         196                  1          1   \n",
       "3                   29.0         196                  1          1   \n",
       "4                   28.0         196                  1          1   \n",
       "\n",
       "   Unnamed: 0_y  ...   order_frequency_flag  First Name  Last Name  Gender  \\\n",
       "0           195  ...  Non-frequent customer       Linda     Nguyen  Female   \n",
       "1           195  ...  Non-frequent customer       Linda     Nguyen  Female   \n",
       "2           195  ...  Non-frequent customer       Linda     Nguyen  Female   \n",
       "3           195  ...  Non-frequent customer       Linda     Nguyen  Female   \n",
       "4           195  ...  Non-frequent customer       Linda     Nguyen  Female   \n",
       "\n",
       "     State Age Date_joined Number_of_dependants  Marital_status Income  \n",
       "0  Alabama  31   2/17/2019                    3         married  40423  \n",
       "1  Alabama  31   2/17/2019                    3         married  40423  \n",
       "2  Alabama  31   2/17/2019                    3         married  40423  \n",
       "3  Alabama  31   2/17/2019                    3         married  40423  \n",
       "4  Alabama  31   2/17/2019                    3         married  40423  \n",
       "\n",
       "[5 rows x 33 columns]"
      ]
     },
     "execution_count": 4,
     "metadata": {},
     "output_type": "execute_result"
    }
   ],
   "source": [
    "#Importing final instacart dataset\n",
    "ic_df = pd.read_pickle(os.path.join (path, '02 Data', 'Prepared Data', 'customer_ords_prods_merged.pkl' ))\n",
    "ic_df.head()"
   ]
  },
  {
   "cell_type": "markdown",
   "id": "65e8b73d",
   "metadata": {},
   "source": [
    "# 2. Drop columns due to security implications"
   ]
  },
  {
   "cell_type": "code",
   "execution_count": 5,
   "id": "4ecbcb15",
   "metadata": {},
   "outputs": [],
   "source": [
    "# Dropping First Name and Last Name columns\n",
    "ic_df = ic_df.drop(columns=['First Name', 'Last Name'])"
   ]
  },
  {
   "cell_type": "code",
   "execution_count": 6,
   "id": "cf781764",
   "metadata": {},
   "outputs": [
    {
     "data": {
      "text/html": [
       "<div>\n",
       "<style scoped>\n",
       "    .dataframe tbody tr th:only-of-type {\n",
       "        vertical-align: middle;\n",
       "    }\n",
       "\n",
       "    .dataframe tbody tr th {\n",
       "        vertical-align: top;\n",
       "    }\n",
       "\n",
       "    .dataframe thead th {\n",
       "        text-align: right;\n",
       "    }\n",
       "</style>\n",
       "<table border=\"1\" class=\"dataframe\">\n",
       "  <thead>\n",
       "    <tr style=\"text-align: right;\">\n",
       "      <th></th>\n",
       "      <th>order_id</th>\n",
       "      <th>user_id</th>\n",
       "      <th>order_number</th>\n",
       "      <th>order_day_of_week</th>\n",
       "      <th>order_hour_of_day</th>\n",
       "      <th>days_since_last_order</th>\n",
       "      <th>product_id</th>\n",
       "      <th>add_to_cart_order</th>\n",
       "      <th>reordered</th>\n",
       "      <th>Unnamed: 0_y</th>\n",
       "      <th>...</th>\n",
       "      <th>spending_flag</th>\n",
       "      <th>median_last_orders</th>\n",
       "      <th>order_frequency_flag</th>\n",
       "      <th>Gender</th>\n",
       "      <th>State</th>\n",
       "      <th>Age</th>\n",
       "      <th>Date_joined</th>\n",
       "      <th>Number_of_dependants</th>\n",
       "      <th>Marital_status</th>\n",
       "      <th>Income</th>\n",
       "    </tr>\n",
       "  </thead>\n",
       "  <tbody>\n",
       "    <tr>\n",
       "      <th>0</th>\n",
       "      <td>2539329</td>\n",
       "      <td>1</td>\n",
       "      <td>1</td>\n",
       "      <td>2</td>\n",
       "      <td>8</td>\n",
       "      <td>NaN</td>\n",
       "      <td>196</td>\n",
       "      <td>1</td>\n",
       "      <td>0</td>\n",
       "      <td>195</td>\n",
       "      <td>...</td>\n",
       "      <td>Low spender</td>\n",
       "      <td>20.5</td>\n",
       "      <td>Non-frequent customer</td>\n",
       "      <td>Female</td>\n",
       "      <td>Alabama</td>\n",
       "      <td>31</td>\n",
       "      <td>2/17/2019</td>\n",
       "      <td>3</td>\n",
       "      <td>married</td>\n",
       "      <td>40423</td>\n",
       "    </tr>\n",
       "    <tr>\n",
       "      <th>1</th>\n",
       "      <td>2398795</td>\n",
       "      <td>1</td>\n",
       "      <td>2</td>\n",
       "      <td>3</td>\n",
       "      <td>7</td>\n",
       "      <td>15.0</td>\n",
       "      <td>196</td>\n",
       "      <td>1</td>\n",
       "      <td>1</td>\n",
       "      <td>195</td>\n",
       "      <td>...</td>\n",
       "      <td>Low spender</td>\n",
       "      <td>20.5</td>\n",
       "      <td>Non-frequent customer</td>\n",
       "      <td>Female</td>\n",
       "      <td>Alabama</td>\n",
       "      <td>31</td>\n",
       "      <td>2/17/2019</td>\n",
       "      <td>3</td>\n",
       "      <td>married</td>\n",
       "      <td>40423</td>\n",
       "    </tr>\n",
       "    <tr>\n",
       "      <th>2</th>\n",
       "      <td>473747</td>\n",
       "      <td>1</td>\n",
       "      <td>3</td>\n",
       "      <td>3</td>\n",
       "      <td>12</td>\n",
       "      <td>21.0</td>\n",
       "      <td>196</td>\n",
       "      <td>1</td>\n",
       "      <td>1</td>\n",
       "      <td>195</td>\n",
       "      <td>...</td>\n",
       "      <td>Low spender</td>\n",
       "      <td>20.5</td>\n",
       "      <td>Non-frequent customer</td>\n",
       "      <td>Female</td>\n",
       "      <td>Alabama</td>\n",
       "      <td>31</td>\n",
       "      <td>2/17/2019</td>\n",
       "      <td>3</td>\n",
       "      <td>married</td>\n",
       "      <td>40423</td>\n",
       "    </tr>\n",
       "    <tr>\n",
       "      <th>3</th>\n",
       "      <td>2254736</td>\n",
       "      <td>1</td>\n",
       "      <td>4</td>\n",
       "      <td>4</td>\n",
       "      <td>7</td>\n",
       "      <td>29.0</td>\n",
       "      <td>196</td>\n",
       "      <td>1</td>\n",
       "      <td>1</td>\n",
       "      <td>195</td>\n",
       "      <td>...</td>\n",
       "      <td>Low spender</td>\n",
       "      <td>20.5</td>\n",
       "      <td>Non-frequent customer</td>\n",
       "      <td>Female</td>\n",
       "      <td>Alabama</td>\n",
       "      <td>31</td>\n",
       "      <td>2/17/2019</td>\n",
       "      <td>3</td>\n",
       "      <td>married</td>\n",
       "      <td>40423</td>\n",
       "    </tr>\n",
       "    <tr>\n",
       "      <th>4</th>\n",
       "      <td>431534</td>\n",
       "      <td>1</td>\n",
       "      <td>5</td>\n",
       "      <td>4</td>\n",
       "      <td>15</td>\n",
       "      <td>28.0</td>\n",
       "      <td>196</td>\n",
       "      <td>1</td>\n",
       "      <td>1</td>\n",
       "      <td>195</td>\n",
       "      <td>...</td>\n",
       "      <td>Low spender</td>\n",
       "      <td>20.5</td>\n",
       "      <td>Non-frequent customer</td>\n",
       "      <td>Female</td>\n",
       "      <td>Alabama</td>\n",
       "      <td>31</td>\n",
       "      <td>2/17/2019</td>\n",
       "      <td>3</td>\n",
       "      <td>married</td>\n",
       "      <td>40423</td>\n",
       "    </tr>\n",
       "  </tbody>\n",
       "</table>\n",
       "<p>5 rows × 31 columns</p>\n",
       "</div>"
      ],
      "text/plain": [
       "   order_id  user_id  order_number  order_day_of_week  order_hour_of_day  \\\n",
       "0   2539329        1             1                  2                  8   \n",
       "1   2398795        1             2                  3                  7   \n",
       "2    473747        1             3                  3                 12   \n",
       "3   2254736        1             4                  4                  7   \n",
       "4    431534        1             5                  4                 15   \n",
       "\n",
       "   days_since_last_order  product_id  add_to_cart_order  reordered  \\\n",
       "0                    NaN         196                  1          0   \n",
       "1                   15.0         196                  1          1   \n",
       "2                   21.0         196                  1          1   \n",
       "3                   29.0         196                  1          1   \n",
       "4                   28.0         196                  1          1   \n",
       "\n",
       "   Unnamed: 0_y  ... spending_flag  median_last_orders   order_frequency_flag  \\\n",
       "0           195  ...   Low spender                20.5  Non-frequent customer   \n",
       "1           195  ...   Low spender                20.5  Non-frequent customer   \n",
       "2           195  ...   Low spender                20.5  Non-frequent customer   \n",
       "3           195  ...   Low spender                20.5  Non-frequent customer   \n",
       "4           195  ...   Low spender                20.5  Non-frequent customer   \n",
       "\n",
       "   Gender    State Age Date_joined Number_of_dependants  Marital_status Income  \n",
       "0  Female  Alabama  31   2/17/2019                    3         married  40423  \n",
       "1  Female  Alabama  31   2/17/2019                    3         married  40423  \n",
       "2  Female  Alabama  31   2/17/2019                    3         married  40423  \n",
       "3  Female  Alabama  31   2/17/2019                    3         married  40423  \n",
       "4  Female  Alabama  31   2/17/2019                    3         married  40423  \n",
       "\n",
       "[5 rows x 31 columns]"
      ]
     },
     "execution_count": 6,
     "metadata": {},
     "output_type": "execute_result"
    }
   ],
   "source": [
    "ic_df.head()"
   ]
  },
  {
   "cell_type": "markdown",
   "id": "443cc354",
   "metadata": {},
   "source": [
    "# 3. Create a regional segmentation"
   ]
  },
  {
   "cell_type": "code",
   "execution_count": 7,
   "id": "dab261a9",
   "metadata": {},
   "outputs": [],
   "source": [
    "# Dividing states into regions \n",
    "Northeast = ['Maine', 'New Hampshire', 'Vermont', 'Massachusetts', 'Rhode Island', 'Connecticut', 'New York', 'Pennsylvania', 'New Jersey']\n",
    "Midwest = ['Wisconsin', 'Michigan', 'Illinois', 'Indiana', 'Ohio', 'North Dakota', 'South Dakota', 'Nebraska', 'Kansas', 'Minnesota', 'Iowa', 'Missouri']\n",
    "South= ['Delaware', 'Maryland', 'District of Columbia', 'Virginia', 'West Virginia', 'North Carolina', 'South Carolina', 'Georgia', 'Florida', 'Kentucky', 'Tennessee', 'Mississippi', 'Alabama', 'Oklahoma', 'Texas', 'Arkansas', 'Louisiana']\n",
    "West= ['Idaho', 'Montana', 'Wyoming', 'Nevada', 'Utah', 'Colorado', 'Arizona', 'New Mexico', 'Alaska', 'Washington', 'Oregon', 'California', 'Hawaii']"
   ]
  },
  {
   "cell_type": "code",
   "execution_count": 9,
   "id": "ad6df41f",
   "metadata": {},
   "outputs": [],
   "source": [
    "# Creating region flag\n",
    "ic_df.loc[ic_df['State'].isin(Northeast), 'Region'] = 'Northeast'\n",
    "ic_df.loc[ic_df['State'].isin(Midwest), 'Region'] = 'Midwest'\n",
    "ic_df.loc[ic_df['State'].isin(South), 'Region'] = 'South'\n",
    "ic_df.loc[ic_df['State'].isin(West), 'Region'] = 'West'"
   ]
  },
  {
   "cell_type": "code",
   "execution_count": 10,
   "id": "d02786a7",
   "metadata": {},
   "outputs": [
    {
     "data": {
      "text/plain": [
       "South        10791885\n",
       "West          8292913\n",
       "Midwest       7597325\n",
       "Northeast     5722736\n",
       "Name: Region, dtype: int64"
      ]
     },
     "execution_count": 10,
     "metadata": {},
     "output_type": "execute_result"
    }
   ],
   "source": [
    "ic_df['Region'].value_counts(dropna = False)"
   ]
  },
  {
   "cell_type": "markdown",
   "id": "f7f27e2a",
   "metadata": {},
   "source": [
    "### Compare spending habits between regions"
   ]
  },
  {
   "cell_type": "code",
   "execution_count": 14,
   "id": "38d285e5",
   "metadata": {},
   "outputs": [
    {
     "data": {
      "text/html": [
       "<div>\n",
       "<style scoped>\n",
       "    .dataframe tbody tr th:only-of-type {\n",
       "        vertical-align: middle;\n",
       "    }\n",
       "\n",
       "    .dataframe tbody tr th {\n",
       "        vertical-align: top;\n",
       "    }\n",
       "\n",
       "    .dataframe thead th {\n",
       "        text-align: right;\n",
       "    }\n",
       "</style>\n",
       "<table border=\"1\" class=\"dataframe\">\n",
       "  <thead>\n",
       "    <tr style=\"text-align: right;\">\n",
       "      <th>spending_flag</th>\n",
       "      <th>High spender</th>\n",
       "      <th>Low spender</th>\n",
       "    </tr>\n",
       "    <tr>\n",
       "      <th>Region</th>\n",
       "      <th></th>\n",
       "      <th></th>\n",
       "    </tr>\n",
       "  </thead>\n",
       "  <tbody>\n",
       "    <tr>\n",
       "      <th>Midwest</th>\n",
       "      <td>156154</td>\n",
       "      <td>7441171</td>\n",
       "    </tr>\n",
       "    <tr>\n",
       "      <th>Northeast</th>\n",
       "      <td>108245</td>\n",
       "      <td>5614491</td>\n",
       "    </tr>\n",
       "    <tr>\n",
       "      <th>South</th>\n",
       "      <td>210017</td>\n",
       "      <td>10581868</td>\n",
       "    </tr>\n",
       "    <tr>\n",
       "      <th>West</th>\n",
       "      <td>160478</td>\n",
       "      <td>8132435</td>\n",
       "    </tr>\n",
       "  </tbody>\n",
       "</table>\n",
       "</div>"
      ],
      "text/plain": [
       "spending_flag  High spender  Low spender\n",
       "Region                                  \n",
       "Midwest              156154      7441171\n",
       "Northeast            108245      5614491\n",
       "South                210017     10581868\n",
       "West                 160478      8132435"
      ]
     },
     "execution_count": 14,
     "metadata": {},
     "output_type": "execute_result"
    }
   ],
   "source": [
    "#Comparing spending habits between regions by creating a crosstab\n",
    "crosstab = pd.crosstab(ic_df['Region'], ic_df['spending_flag'], dropna = False)\n",
    "crosstab"
   ]
  },
  {
   "cell_type": "code",
   "execution_count": 75,
   "id": "62029ea4",
   "metadata": {},
   "outputs": [],
   "source": [
    "# grouping region and user spending\n",
    "region_spending_counts = ic_df.groupby(['Region','spending_flag']).size().unstack(fill_value=0)"
   ]
  },
  {
   "cell_type": "code",
   "execution_count": 76,
   "id": "98f19e42",
   "metadata": {},
   "outputs": [
    {
     "data": {
      "image/png": "[encoded data removed]",
      "text/plain": [
       "<Figure size 640x480 with 1 Axes>"
      ]
     },
     "metadata": {},
     "output_type": "display_data"
    }
   ],
   "source": [
    "# Creating bar chart for region and spending \n",
    "bar_region_spending = region_spending_counts.plot.bar(stacked=True)"
   ]
  },
  {
   "cell_type": "code",
   "execution_count": 77,
   "id": "7cbe458e",
   "metadata": {},
   "outputs": [],
   "source": [
    "# exporting region spending chart\n",
    "bar_region_spending.figure.savefig(os.path.join(path, '04 Analysis', 'Visualizations', 'bar_region_spending.png'))"
   ]
  },
  {
   "cell_type": "markdown",
   "id": "4c84620e",
   "metadata": {},
   "source": [
    "#### Observation: There doesn't seem to be a spending difference between regions because if you look at every region there are more 'low spenders' than 'high spenders'."
   ]
  },
  {
   "cell_type": "markdown",
   "id": "62463b4f",
   "metadata": {},
   "source": [
    "# 4. Create an exclusion flag for low-activity customers"
   ]
  },
  {
   "cell_type": "code",
   "execution_count": 16,
   "id": "cc4484dd",
   "metadata": {},
   "outputs": [],
   "source": [
    "# Creating an exclusion flag for customers who don't generate much revenue\n",
    "ic_df.loc[ic_df['order_number'] < 5, 'exclusion_flag'] = 'YES'\n",
    "ic_df.loc[ic_df['order_number'] >= 5, 'exclusion_flag'] = 'NO'"
   ]
  },
  {
   "cell_type": "code",
   "execution_count": 17,
   "id": "8714f35a",
   "metadata": {},
   "outputs": [
    {
     "data": {
      "text/plain": [
       "NO     24414877\n",
       "YES     7989982\n",
       "Name: exclusion_flag, dtype: int64"
      ]
     },
     "execution_count": 17,
     "metadata": {},
     "output_type": "execute_result"
    }
   ],
   "source": [
    "ic_df['exclusion_flag'].value_counts(dropna = False)"
   ]
  },
  {
   "cell_type": "code",
   "execution_count": 18,
   "id": "d0e18dbe",
   "metadata": {},
   "outputs": [
    {
     "data": {
      "text/html": [
       "<div>\n",
       "<style scoped>\n",
       "    .dataframe tbody tr th:only-of-type {\n",
       "        vertical-align: middle;\n",
       "    }\n",
       "\n",
       "    .dataframe tbody tr th {\n",
       "        vertical-align: top;\n",
       "    }\n",
       "\n",
       "    .dataframe thead th {\n",
       "        text-align: right;\n",
       "    }\n",
       "</style>\n",
       "<table border=\"1\" class=\"dataframe\">\n",
       "  <thead>\n",
       "    <tr style=\"text-align: right;\">\n",
       "      <th></th>\n",
       "      <th>order_id</th>\n",
       "      <th>user_id</th>\n",
       "      <th>order_number</th>\n",
       "      <th>order_day_of_week</th>\n",
       "      <th>order_hour_of_day</th>\n",
       "      <th>days_since_last_order</th>\n",
       "      <th>product_id</th>\n",
       "      <th>add_to_cart_order</th>\n",
       "      <th>reordered</th>\n",
       "      <th>Unnamed: 0_y</th>\n",
       "      <th>...</th>\n",
       "      <th>order_frequency_flag</th>\n",
       "      <th>Gender</th>\n",
       "      <th>State</th>\n",
       "      <th>Age</th>\n",
       "      <th>Date_joined</th>\n",
       "      <th>Number_of_dependants</th>\n",
       "      <th>Marital_status</th>\n",
       "      <th>Income</th>\n",
       "      <th>Region</th>\n",
       "      <th>exclusion_flag</th>\n",
       "    </tr>\n",
       "  </thead>\n",
       "  <tbody>\n",
       "    <tr>\n",
       "      <th>0</th>\n",
       "      <td>2539329</td>\n",
       "      <td>1</td>\n",
       "      <td>1</td>\n",
       "      <td>2</td>\n",
       "      <td>8</td>\n",
       "      <td>NaN</td>\n",
       "      <td>196</td>\n",
       "      <td>1</td>\n",
       "      <td>0</td>\n",
       "      <td>195</td>\n",
       "      <td>...</td>\n",
       "      <td>Non-frequent customer</td>\n",
       "      <td>Female</td>\n",
       "      <td>Alabama</td>\n",
       "      <td>31</td>\n",
       "      <td>2/17/2019</td>\n",
       "      <td>3</td>\n",
       "      <td>married</td>\n",
       "      <td>40423</td>\n",
       "      <td>South</td>\n",
       "      <td>YES</td>\n",
       "    </tr>\n",
       "    <tr>\n",
       "      <th>1</th>\n",
       "      <td>2398795</td>\n",
       "      <td>1</td>\n",
       "      <td>2</td>\n",
       "      <td>3</td>\n",
       "      <td>7</td>\n",
       "      <td>15.0</td>\n",
       "      <td>196</td>\n",
       "      <td>1</td>\n",
       "      <td>1</td>\n",
       "      <td>195</td>\n",
       "      <td>...</td>\n",
       "      <td>Non-frequent customer</td>\n",
       "      <td>Female</td>\n",
       "      <td>Alabama</td>\n",
       "      <td>31</td>\n",
       "      <td>2/17/2019</td>\n",
       "      <td>3</td>\n",
       "      <td>married</td>\n",
       "      <td>40423</td>\n",
       "      <td>South</td>\n",
       "      <td>YES</td>\n",
       "    </tr>\n",
       "    <tr>\n",
       "      <th>2</th>\n",
       "      <td>473747</td>\n",
       "      <td>1</td>\n",
       "      <td>3</td>\n",
       "      <td>3</td>\n",
       "      <td>12</td>\n",
       "      <td>21.0</td>\n",
       "      <td>196</td>\n",
       "      <td>1</td>\n",
       "      <td>1</td>\n",
       "      <td>195</td>\n",
       "      <td>...</td>\n",
       "      <td>Non-frequent customer</td>\n",
       "      <td>Female</td>\n",
       "      <td>Alabama</td>\n",
       "      <td>31</td>\n",
       "      <td>2/17/2019</td>\n",
       "      <td>3</td>\n",
       "      <td>married</td>\n",
       "      <td>40423</td>\n",
       "      <td>South</td>\n",
       "      <td>YES</td>\n",
       "    </tr>\n",
       "    <tr>\n",
       "      <th>3</th>\n",
       "      <td>2254736</td>\n",
       "      <td>1</td>\n",
       "      <td>4</td>\n",
       "      <td>4</td>\n",
       "      <td>7</td>\n",
       "      <td>29.0</td>\n",
       "      <td>196</td>\n",
       "      <td>1</td>\n",
       "      <td>1</td>\n",
       "      <td>195</td>\n",
       "      <td>...</td>\n",
       "      <td>Non-frequent customer</td>\n",
       "      <td>Female</td>\n",
       "      <td>Alabama</td>\n",
       "      <td>31</td>\n",
       "      <td>2/17/2019</td>\n",
       "      <td>3</td>\n",
       "      <td>married</td>\n",
       "      <td>40423</td>\n",
       "      <td>South</td>\n",
       "      <td>YES</td>\n",
       "    </tr>\n",
       "    <tr>\n",
       "      <th>4</th>\n",
       "      <td>431534</td>\n",
       "      <td>1</td>\n",
       "      <td>5</td>\n",
       "      <td>4</td>\n",
       "      <td>15</td>\n",
       "      <td>28.0</td>\n",
       "      <td>196</td>\n",
       "      <td>1</td>\n",
       "      <td>1</td>\n",
       "      <td>195</td>\n",
       "      <td>...</td>\n",
       "      <td>Non-frequent customer</td>\n",
       "      <td>Female</td>\n",
       "      <td>Alabama</td>\n",
       "      <td>31</td>\n",
       "      <td>2/17/2019</td>\n",
       "      <td>3</td>\n",
       "      <td>married</td>\n",
       "      <td>40423</td>\n",
       "      <td>South</td>\n",
       "      <td>NO</td>\n",
       "    </tr>\n",
       "  </tbody>\n",
       "</table>\n",
       "<p>5 rows × 33 columns</p>\n",
       "</div>"
      ],
      "text/plain": [
       "   order_id  user_id  order_number  order_day_of_week  order_hour_of_day  \\\n",
       "0   2539329        1             1                  2                  8   \n",
       "1   2398795        1             2                  3                  7   \n",
       "2    473747        1             3                  3                 12   \n",
       "3   2254736        1             4                  4                  7   \n",
       "4    431534        1             5                  4                 15   \n",
       "\n",
       "   days_since_last_order  product_id  add_to_cart_order  reordered  \\\n",
       "0                    NaN         196                  1          0   \n",
       "1                   15.0         196                  1          1   \n",
       "2                   21.0         196                  1          1   \n",
       "3                   29.0         196                  1          1   \n",
       "4                   28.0         196                  1          1   \n",
       "\n",
       "   Unnamed: 0_y  ...   order_frequency_flag  Gender    State  Age Date_joined  \\\n",
       "0           195  ...  Non-frequent customer  Female  Alabama   31   2/17/2019   \n",
       "1           195  ...  Non-frequent customer  Female  Alabama   31   2/17/2019   \n",
       "2           195  ...  Non-frequent customer  Female  Alabama   31   2/17/2019   \n",
       "3           195  ...  Non-frequent customer  Female  Alabama   31   2/17/2019   \n",
       "4           195  ...  Non-frequent customer  Female  Alabama   31   2/17/2019   \n",
       "\n",
       "  Number_of_dependants Marital_status Income  Region exclusion_flag  \n",
       "0                    3        married  40423   South            YES  \n",
       "1                    3        married  40423   South            YES  \n",
       "2                    3        married  40423   South            YES  \n",
       "3                    3        married  40423   South            YES  \n",
       "4                    3        married  40423   South             NO  \n",
       "\n",
       "[5 rows x 33 columns]"
      ]
     },
     "execution_count": 18,
     "metadata": {},
     "output_type": "execute_result"
    }
   ],
   "source": [
    "ic_df.head()"
   ]
  },
  {
   "cell_type": "code",
   "execution_count": 19,
   "id": "15cd7285",
   "metadata": {},
   "outputs": [],
   "source": [
    "# Creating a new dataset with exclusion flag\n",
    "df_ex_fl = ic_df.loc[ic_df['exclusion_flag'] == 'NO']"
   ]
  },
  {
   "cell_type": "code",
   "execution_count": 20,
   "id": "16db6480",
   "metadata": {},
   "outputs": [
    {
     "data": {
      "text/plain": [
       "(24414877, 33)"
      ]
     },
     "execution_count": 20,
     "metadata": {},
     "output_type": "execute_result"
    }
   ],
   "source": [
    "df_ex_fl.shape"
   ]
  },
  {
   "cell_type": "code",
   "execution_count": 21,
   "id": "12e5b8aa",
   "metadata": {},
   "outputs": [
    {
     "data": {
      "text/plain": [
       "(32404859, 33)"
      ]
     },
     "execution_count": 21,
     "metadata": {},
     "output_type": "execute_result"
    }
   ],
   "source": [
    "ic_df.shape"
   ]
  },
  {
   "cell_type": "code",
   "execution_count": 22,
   "id": "08ce6c98",
   "metadata": {},
   "outputs": [],
   "source": [
    "# Exporting exclusion flag dataset as pickle\n",
    "df_ex_fl.to_pickle(os.path.join(path, '02 Data','Prepared Data', 'df_ex_fl.pkl'))"
   ]
  },
  {
   "cell_type": "markdown",
   "id": "f51bd38f",
   "metadata": {},
   "source": [
    "# 5. Customer profiles"
   ]
  },
  {
   "cell_type": "markdown",
   "id": "7cc2aa16",
   "metadata": {},
   "source": [
    "### Age Group Profile"
   ]
  },
  {
   "cell_type": "code",
   "execution_count": 23,
   "id": "b19d6a00",
   "metadata": {},
   "outputs": [
    {
     "data": {
      "text/plain": [
       "count    3.240486e+07\n",
       "mean     4.946527e+01\n",
       "std      1.848558e+01\n",
       "min      1.800000e+01\n",
       "25%      3.300000e+01\n",
       "50%      4.900000e+01\n",
       "75%      6.500000e+01\n",
       "max      8.100000e+01\n",
       "Name: Age, dtype: float64"
      ]
     },
     "execution_count": 23,
     "metadata": {},
     "output_type": "execute_result"
    }
   ],
   "source": [
    "# Age profiling\n",
    "ic_df['Age'].describe()"
   ]
  },
  {
   "cell_type": "code",
   "execution_count": 24,
   "id": "19fac647",
   "metadata": {},
   "outputs": [],
   "source": [
    "# Creating age_group classification flags\n",
    "ic_df.loc[(ic_df['Age'] < 35), 'age_group'] = 'Young Adult'\n",
    "ic_df.loc[(ic_df['Age'] >= 35) & (ic_df['Age'] < 65), 'age_group'] = 'Middle-Aged'\n",
    "ic_df.loc[(ic_df['Age'] >= 65), 'age_group'] = 'Senior'"
   ]
  },
  {
   "cell_type": "code",
   "execution_count": 25,
   "id": "01aa35ff",
   "metadata": {},
   "outputs": [
    {
     "data": {
      "text/plain": [
       "Middle-Aged    15202120\n",
       "Young Adult     8627655\n",
       "Senior          8575084\n",
       "Name: age_group, dtype: int64"
      ]
     },
     "execution_count": 25,
     "metadata": {},
     "output_type": "execute_result"
    }
   ],
   "source": [
    "ic_df['age_group'].value_counts(dropna = False)"
   ]
  },
  {
   "cell_type": "markdown",
   "id": "b4932957",
   "metadata": {},
   "source": [
    "### Income Profile"
   ]
  },
  {
   "cell_type": "code",
   "execution_count": 27,
   "id": "719fc936",
   "metadata": {},
   "outputs": [
    {
     "data": {
      "text/plain": [
       "count    3.240486e+07\n",
       "mean     9.943773e+04\n",
       "std      4.305727e+04\n",
       "min      2.590300e+04\n",
       "25%      6.700400e+04\n",
       "50%      9.661800e+04\n",
       "75%      1.279120e+05\n",
       "max      5.939010e+05\n",
       "Name: Income, dtype: float64"
      ]
     },
     "execution_count": 27,
     "metadata": {},
     "output_type": "execute_result"
    }
   ],
   "source": [
    "# income profiling\n",
    "ic_df['Income'].describe()"
   ]
  },
  {
   "cell_type": "code",
   "execution_count": 30,
   "id": "13c0dd59",
   "metadata": {},
   "outputs": [],
   "source": [
    "# Creating income classification\n",
    "ic_df.loc[(ic_df['Income'] <= 68000), 'income_group'] = 'Low Income'\n",
    "ic_df.loc[(ic_df['Income'] > 68000) & (ic_df['Income'] <= 128000), 'income_group'] = 'Middle Income'\n",
    "ic_df.loc[(ic_df['Income'] > 128000), 'income_group'] = 'High Income'"
   ]
  },
  {
   "cell_type": "code",
   "execution_count": 31,
   "id": "771446d7",
   "metadata": {},
   "outputs": [
    {
     "data": {
      "text/plain": [
       "Middle Income    15929926\n",
       "Low Income        8392729\n",
       "High Income       8082204\n",
       "Name: income_group, dtype: int64"
      ]
     },
     "execution_count": 31,
     "metadata": {},
     "output_type": "execute_result"
    }
   ],
   "source": [
    "ic_df['income_group'].value_counts(dropna = False)"
   ]
  },
  {
   "cell_type": "markdown",
   "id": "c9a8048a",
   "metadata": {},
   "source": [
    "### Dependents Profile"
   ]
  },
  {
   "cell_type": "code",
   "execution_count": 32,
   "id": "e20f8cc1",
   "metadata": {},
   "outputs": [
    {
     "data": {
      "text/plain": [
       "3    8135109\n",
       "0    8097503\n",
       "2    8091143\n",
       "1    8081104\n",
       "Name: Number_of_dependants, dtype: int64"
      ]
     },
     "execution_count": 32,
     "metadata": {},
     "output_type": "execute_result"
    }
   ],
   "source": [
    "ic_df['Number_of_dependants'].value_counts(dropna = False)"
   ]
  },
  {
   "cell_type": "code",
   "execution_count": 37,
   "id": "18fff127",
   "metadata": {},
   "outputs": [],
   "source": [
    "# Creating a dependant / no dependant flag\n",
    "ic_df.loc[ic_df['Number_of_dependants'] == 0, 'dependants'] = 'No Dependants'\n",
    "ic_df.loc[ic_df['Number_of_dependants'] >= 1, 'dependants'] = 'Has Dependants'"
   ]
  },
  {
   "cell_type": "code",
   "execution_count": 38,
   "id": "8daa59e4",
   "metadata": {},
   "outputs": [
    {
     "data": {
      "text/plain": [
       "Has Dependants    24307356\n",
       "No Dependants      8097503\n",
       "Name: dependants, dtype: int64"
      ]
     },
     "execution_count": 38,
     "metadata": {},
     "output_type": "execute_result"
    }
   ],
   "source": [
    "ic_df['dependants'].value_counts()"
   ]
  },
  {
   "cell_type": "markdown",
   "id": "6a062a69",
   "metadata": {},
   "source": [
    "# 6. Create visualizations for distribution of profiles"
   ]
  },
  {
   "cell_type": "markdown",
   "id": "b4dc7dd3",
   "metadata": {},
   "source": [
    "### Age group bar chart"
   ]
  },
  {
   "cell_type": "code",
   "execution_count": 43,
   "id": "1ba48f11",
   "metadata": {},
   "outputs": [
    {
     "data": {
      "image/png": "[encoded data removed]",
      "text/plain": [
       "<Figure size 640x480 with 1 Axes>"
      ]
     },
     "metadata": {},
     "output_type": "display_data"
    }
   ],
   "source": [
    "# Creating age bar chart\n",
    "bar_age = ic_df['age_group'].value_counts().plot.bar()"
   ]
  },
  {
   "cell_type": "code",
   "execution_count": 41,
   "id": "b626ade9",
   "metadata": {},
   "outputs": [],
   "source": [
    "# exporting bar chart\n",
    "bar_age.figure.savefig(os.path.join(path, '04 Analysis', 'Visualizations', 'bar_age.png'))"
   ]
  },
  {
   "cell_type": "markdown",
   "id": "81c890e2",
   "metadata": {},
   "source": [
    "### Income bar chart"
   ]
  },
  {
   "cell_type": "code",
   "execution_count": 42,
   "id": "10e7f030",
   "metadata": {},
   "outputs": [
    {
     "data": {
      "image/png": "[encoded data removed]",
      "text/plain": [
       "<Figure size 640x480 with 1 Axes>"
      ]
     },
     "metadata": {},
     "output_type": "display_data"
    }
   ],
   "source": [
    "# Creating income bar chart\n",
    "bar_income = ic_df['income_group'].value_counts().plot.bar()"
   ]
  },
  {
   "cell_type": "code",
   "execution_count": 44,
   "id": "624ee303",
   "metadata": {},
   "outputs": [],
   "source": [
    "# Exporting income bar chart\n",
    "bar_income.figure.savefig(os.path.join(path, '04 Analysis', 'Visualizations', 'bar_income.png'))"
   ]
  },
  {
   "cell_type": "markdown",
   "id": "df53f597",
   "metadata": {},
   "source": [
    "### Department Info charts"
   ]
  },
  {
   "cell_type": "code",
   "execution_count": 45,
   "id": "9c9ec7a9",
   "metadata": {},
   "outputs": [
    {
     "data": {
      "image/png": "[encoded data removed]",
      "text/plain": [
       "<Figure size 640x480 with 1 Axes>"
      ]
     },
     "metadata": {},
     "output_type": "display_data"
    }
   ],
   "source": [
    "# department_id purchases\n",
    "bar_dept = ic_df['department_id'].value_counts().plot.bar()"
   ]
  },
  {
   "cell_type": "code",
   "execution_count": 46,
   "id": "cce2ede8",
   "metadata": {},
   "outputs": [],
   "source": [
    "# The chart above doesn't really say much so I'll be giving names to id numbers\n",
    "department_names = {1: 'Frozen', 2: 'Other', 3: 'Bakery', 4: 'Produce',5: 'Alcohol', 6: 'International',7: 'Beverages', 8:'Pets',9:'Dry Goods Pasta',10: 'Bulk', 11: 'Personal Care', 12: 'Meat/Seafood', 13: 'Pantry', 14: 'Breakfast',15:'Canned Goods', 16: 'Dairy/Eggs', 17: 'Household', 18: ' Babies', 19:'Snacks',20:'Deli',21:'Missing'}"
   ]
  },
  {
   "cell_type": "code",
   "execution_count": 47,
   "id": "79078cd6",
   "metadata": {},
   "outputs": [],
   "source": [
    "# df for counts\n",
    "department_counts = ic_df['department_id'].value_counts()"
   ]
  },
  {
   "cell_type": "code",
   "execution_count": 49,
   "id": "90d5f758",
   "metadata": {},
   "outputs": [
    {
     "data": {
      "image/png": "[encoded data removed]",
      "text/plain": [
       "<Figure size 640x480 with 1 Axes>"
      ]
     },
     "metadata": {},
     "output_type": "display_data"
    }
   ],
   "source": [
    "# Now everything on the chart is properly labled and easy to read\n",
    "ax = department_counts.plot.bar()\n",
    "ax.set_xticklabels([department_names.get(x, '') for x in department_counts.index])\n",
    "for i, v in enumerate(department_counts):\n",
    "    ax.text(i, v, str(v), ha='center', va='bottom')\n",
    "    plt.show()"
   ]
  },
  {
   "cell_type": "code",
   "execution_count": 50,
   "id": "971828b5",
   "metadata": {},
   "outputs": [],
   "source": [
    "# exporting department bar chart\n",
    "ax.figure.savefig(os.path.join(path, '04 Analysis','Visualizations', 'bar_dept.png'))"
   ]
  },
  {
   "cell_type": "markdown",
   "id": "a2b164c7",
   "metadata": {},
   "source": [
    "### Grouping Department and Age"
   ]
  },
  {
   "cell_type": "code",
   "execution_count": 51,
   "id": "53a3ef29",
   "metadata": {},
   "outputs": [],
   "source": [
    "# grouping for age and department\n",
    "age_department_counts = ic_df.groupby(['department_id','age_group']).size().unstack(fill_value=0)"
   ]
  },
  {
   "cell_type": "code",
   "execution_count": 52,
   "id": "c4b016ca",
   "metadata": {},
   "outputs": [
    {
     "data": {
      "image/png": "[encoded data removed]",
      "text/plain": [
       "<Figure size 640x480 with 1 Axes>"
      ]
     },
     "metadata": {},
     "output_type": "display_data"
    }
   ],
   "source": [
    "# bar chart for age and department id\n",
    "bar_age_department = age_department_counts.plot.bar(stacked=True)"
   ]
  },
  {
   "cell_type": "code",
   "execution_count": 53,
   "id": "3fd80c5c",
   "metadata": {},
   "outputs": [],
   "source": [
    "# exporting department & age chart\n",
    "bar_age_department.figure.savefig(os.path.join(path, '04 Analysis', 'Visualizations', 'bar_age_department.png'))"
   ]
  },
  {
   "cell_type": "markdown",
   "id": "40e25123",
   "metadata": {},
   "source": [
    "### Grouping Department and Income"
   ]
  },
  {
   "cell_type": "code",
   "execution_count": 55,
   "id": "da0078a8",
   "metadata": {},
   "outputs": [],
   "source": [
    "# grouping department and income\n",
    "department_income_counts = ic_df.groupby(['department_id','income_group']).size().unstack(fill_value=0)"
   ]
  },
  {
   "cell_type": "code",
   "execution_count": 56,
   "id": "6a6e2af6",
   "metadata": {},
   "outputs": [
    {
     "data": {
      "image/png": "[encoded data removed]",
      "text/plain": [
       "<Figure size 640x480 with 1 Axes>"
      ]
     },
     "metadata": {},
     "output_type": "display_data"
    }
   ],
   "source": [
    "# Creating bar chart for department and income\n",
    "bar_depart_income = department_income_counts.plot.bar(stacked=True)"
   ]
  },
  {
   "cell_type": "code",
   "execution_count": 57,
   "id": "e908e126",
   "metadata": {},
   "outputs": [],
   "source": [
    "# exporting department and income chart\n",
    "bar_depart_income.figure.savefig(os.path.join(path, '04 Analysis', 'Visualizations', 'bar_depart_income.png'))"
   ]
  },
  {
   "cell_type": "markdown",
   "id": "0aa6ffb5",
   "metadata": {},
   "source": [
    "### Marital Info charts"
   ]
  },
  {
   "cell_type": "markdown",
   "id": "778f9ea9",
   "metadata": {},
   "source": [
    "### Grouping marital status and income"
   ]
  },
  {
   "cell_type": "code",
   "execution_count": 64,
   "id": "162532a5",
   "metadata": {},
   "outputs": [],
   "source": [
    "# grouping marital status and income\n",
    "mar_income_counts = ic_df.groupby(['Marital_status','income_group']).size().unstack(fill_value=0)"
   ]
  },
  {
   "cell_type": "code",
   "execution_count": 66,
   "id": "6570aa36",
   "metadata": {},
   "outputs": [
    {
     "data": {
      "image/png": "[encoded data removed]",
      "text/plain": [
       "<Figure size 640x480 with 1 Axes>"
      ]
     },
     "metadata": {},
     "output_type": "display_data"
    }
   ],
   "source": [
    "# Creating a bar chart for marital status and income\n",
    "mar_income_counts = mar_income_counts.plot.bar(stacked=True )"
   ]
  },
  {
   "cell_type": "code",
   "execution_count": 67,
   "id": "54bfacc2",
   "metadata": {},
   "outputs": [],
   "source": [
    "# exporting marital/income chart\n",
    "mar_income_counts.figure.savefig(os.path.join(path, '04 Analysis','Visualizations', 'mar_income.png'))"
   ]
  },
  {
   "cell_type": "markdown",
   "id": "57500091",
   "metadata": {},
   "source": [
    "### Grouping marital status and age group"
   ]
  },
  {
   "cell_type": "code",
   "execution_count": 68,
   "id": "111d240e",
   "metadata": {},
   "outputs": [],
   "source": [
    "# Grouping marital and age\n",
    "mar_age_counts = ic_df.groupby(['Marital_status','age_group']).size().unstack(fill_value=0)"
   ]
  },
  {
   "cell_type": "code",
   "execution_count": 69,
   "id": "e3c1d733",
   "metadata": {},
   "outputs": [
    {
     "data": {
      "image/png": "[encoded data removed]",
      "text/plain": [
       "<Figure size 640x480 with 1 Axes>"
      ]
     },
     "metadata": {},
     "output_type": "display_data"
    }
   ],
   "source": [
    "# Creating a bar chart for marital and age \n",
    "bar_mar_age = fam_age_counts.sort_index().plot.bar(stacked=True )"
   ]
  },
  {
   "cell_type": "code",
   "execution_count": 70,
   "id": "2a4841b7",
   "metadata": {},
   "outputs": [],
   "source": [
    "# exporting marital and age bar chart\n",
    "bar_mar_age.figure.savefig(os.path.join(path, '04 Analysis','Visualizations', 'bar_mar_age.png'))"
   ]
  },
  {
   "cell_type": "markdown",
   "id": "527c93a5",
   "metadata": {},
   "source": [
    "### Grouping marital status and dependents"
   ]
  },
  {
   "cell_type": "code",
   "execution_count": 72,
   "id": "62cef219",
   "metadata": {},
   "outputs": [],
   "source": [
    "# grouping marital status and dependants\n",
    "mar_depend_counts = ic_df.groupby(['Marital_status','dependants']).size().unstack(fill_value=0)"
   ]
  },
  {
   "cell_type": "code",
   "execution_count": 73,
   "id": "06401a1b",
   "metadata": {},
   "outputs": [
    {
     "data": {
      "image/png": "[encoded data removed]",
      "text/plain": [
       "<Figure size 640x480 with 1 Axes>"
      ]
     },
     "metadata": {},
     "output_type": "display_data"
    }
   ],
   "source": [
    "# Creating a bar chart for marital status and dependents\n",
    "bar_mar_depend = mar_depend_counts.sort_index().plot.bar(stacked=True )"
   ]
  },
  {
   "cell_type": "code",
   "execution_count": 74,
   "id": "cd5bc542",
   "metadata": {},
   "outputs": [],
   "source": [
    "# exporting marital and dependent bar chart\n",
    "bar_mar_depend.figure.savefig(os.path.join(path, '04 Analysis', 'Visualizations', 'bar_mar_depend'))"
   ]
  },
  {
   "cell_type": "markdown",
   "id": "1a2efc71",
   "metadata": {},
   "source": [
    "### Loyalty info charts"
   ]
  },
  {
   "cell_type": "markdown",
   "id": "d5b99775",
   "metadata": {},
   "source": [
    "### Grouping loyalty and frequency"
   ]
  },
  {
   "cell_type": "code",
   "execution_count": 83,
   "id": "513acdfb",
   "metadata": {},
   "outputs": [],
   "source": [
    "# group by and loyalty and frequency\n",
    "loyal_freq_counts = ic_df.groupby(['loyalty_flag','order_frequency_flag']).size().unstack(fill_value=0)"
   ]
  },
  {
   "cell_type": "code",
   "execution_count": 80,
   "id": "28f8d4bc",
   "metadata": {},
   "outputs": [
    {
     "data": {
      "image/png": "[encoded data removed]",
      "text/plain": [
       "<Figure size 640x480 with 1 Axes>"
      ]
     },
     "metadata": {},
     "output_type": "display_data"
    }
   ],
   "source": [
    "# Creating a bar chart for loyalty and frequency \n",
    "bar_loyal_freq = loyal_freq_counts.plot.bar(stacked=True)"
   ]
  },
  {
   "cell_type": "code",
   "execution_count": 82,
   "id": "61ff18f8",
   "metadata": {},
   "outputs": [],
   "source": [
    "# exporting loyalty and frequency\n",
    "bar_loyal_freq.figure.savefig(os.path.join(path, '04 Analysis', 'Visualizations', 'bar_loyal_freq.png'))"
   ]
  },
  {
   "cell_type": "markdown",
   "id": "44a6d2e2",
   "metadata": {},
   "source": [
    "### Grouping loyalty and spending "
   ]
  },
  {
   "cell_type": "code",
   "execution_count": 85,
   "id": "652b5df7",
   "metadata": {},
   "outputs": [],
   "source": [
    "# grouping loyalty and spending\n",
    "loyal_spend_counts = ic_df.groupby(['loyalty_flag','spending_flag']).size().unstack(fill_value=0)"
   ]
  },
  {
   "cell_type": "code",
   "execution_count": 86,
   "id": "42bdff04",
   "metadata": {},
   "outputs": [
    {
     "data": {
      "image/png": "[encoded data removed]",
      "text/plain": [
       "<Figure size 640x480 with 1 Axes>"
      ]
     },
     "metadata": {},
     "output_type": "display_data"
    }
   ],
   "source": [
    "# Creating bar chart for loyalty and spending \n",
    "bar_loyal_spend = loyal_spend_counts.plot.bar(stacked=True)"
   ]
  },
  {
   "cell_type": "code",
   "execution_count": 87,
   "id": "b0bd4b69",
   "metadata": {},
   "outputs": [],
   "source": [
    "# exporting loyalty/spending bar chart\n",
    "bar_loyal_spend.figure.savefig(os.path.join(path, '04 Analysis', 'Visualizations', 'bar_loyal_spend.png'))"
   ]
  },
  {
   "cell_type": "markdown",
   "id": "3fa1547b",
   "metadata": {},
   "source": [
    "### Grouping loyalty and region"
   ]
  },
  {
   "cell_type": "code",
   "execution_count": 89,
   "id": "b2f9552a",
   "metadata": {},
   "outputs": [],
   "source": [
    "# group loyalty and region\n",
    "region_loyal_counts = ic_df.groupby(['Region','loyalty_flag']).size().unstack(fill_value=0)"
   ]
  },
  {
   "cell_type": "code",
   "execution_count": 90,
   "id": "bb86648f",
   "metadata": {},
   "outputs": [
    {
     "data": {
      "image/png": "[encoded data removed]",
      "text/plain": [
       "<Figure size 640x480 with 1 Axes>"
      ]
     },
     "metadata": {},
     "output_type": "display_data"
    }
   ],
   "source": [
    "# Creating a bar chart for loyalty/region\n",
    "bar_region_loyal = region_loyal_counts.plot.bar(stacked=True)"
   ]
  },
  {
   "cell_type": "code",
   "execution_count": 91,
   "id": "fcf5e614",
   "metadata": {},
   "outputs": [],
   "source": [
    "# exporting loyalty/region chart\n",
    "bar_region_loyal.figure.savefig(os.path.join(path, '04 Analysis', 'Visualizations', 'bar_region_loyal.png'))"
   ]
  },
  {
   "cell_type": "markdown",
   "id": "74b25521",
   "metadata": {},
   "source": [
    "# 7. Aggregate"
   ]
  },
  {
   "cell_type": "markdown",
   "id": "1b944f20",
   "metadata": {},
   "source": [
    "### Age and spending aggregations"
   ]
  },
  {
   "cell_type": "code",
   "execution_count": 92,
   "id": "7745e120",
   "metadata": {},
   "outputs": [
    {
     "data": {
      "text/html": [
       "<div>\n",
       "<style scoped>\n",
       "    .dataframe tbody tr th:only-of-type {\n",
       "        vertical-align: middle;\n",
       "    }\n",
       "\n",
       "    .dataframe tbody tr th {\n",
       "        vertical-align: top;\n",
       "    }\n",
       "\n",
       "    .dataframe thead tr th {\n",
       "        text-align: left;\n",
       "    }\n",
       "\n",
       "    .dataframe thead tr:last-of-type th {\n",
       "        text-align: right;\n",
       "    }\n",
       "</style>\n",
       "<table border=\"1\" class=\"dataframe\">\n",
       "  <thead>\n",
       "    <tr>\n",
       "      <th></th>\n",
       "      <th colspan=\"3\" halign=\"left\">prices</th>\n",
       "    </tr>\n",
       "    <tr>\n",
       "      <th></th>\n",
       "      <th>mean</th>\n",
       "      <th>min</th>\n",
       "      <th>max</th>\n",
       "    </tr>\n",
       "    <tr>\n",
       "      <th>age_group</th>\n",
       "      <th></th>\n",
       "      <th></th>\n",
       "      <th></th>\n",
       "    </tr>\n",
       "  </thead>\n",
       "  <tbody>\n",
       "    <tr>\n",
       "      <th>Middle-Aged</th>\n",
       "      <td>11.989499</td>\n",
       "      <td>1.0</td>\n",
       "      <td>99999.0</td>\n",
       "    </tr>\n",
       "    <tr>\n",
       "      <th>Senior</th>\n",
       "      <td>11.768850</td>\n",
       "      <td>1.0</td>\n",
       "      <td>99999.0</td>\n",
       "    </tr>\n",
       "    <tr>\n",
       "      <th>Young Adult</th>\n",
       "      <td>12.173973</td>\n",
       "      <td>1.0</td>\n",
       "      <td>99999.0</td>\n",
       "    </tr>\n",
       "  </tbody>\n",
       "</table>\n",
       "</div>"
      ],
      "text/plain": [
       "                prices              \n",
       "                  mean  min      max\n",
       "age_group                           \n",
       "Middle-Aged  11.989499  1.0  99999.0\n",
       "Senior       11.768850  1.0  99999.0\n",
       "Young Adult  12.173973  1.0  99999.0"
      ]
     },
     "execution_count": 92,
     "metadata": {},
     "output_type": "execute_result"
    }
   ],
   "source": [
    "ic_df.groupby('age_group').agg({'prices': ['mean', 'min', 'max']})"
   ]
  },
  {
   "cell_type": "markdown",
   "id": "65107813",
   "metadata": {},
   "source": [
    "###  Income and spending aggregations"
   ]
  },
  {
   "cell_type": "code",
   "execution_count": 93,
   "id": "4a7e28ae",
   "metadata": {},
   "outputs": [
    {
     "data": {
      "text/html": [
       "<div>\n",
       "<style scoped>\n",
       "    .dataframe tbody tr th:only-of-type {\n",
       "        vertical-align: middle;\n",
       "    }\n",
       "\n",
       "    .dataframe tbody tr th {\n",
       "        vertical-align: top;\n",
       "    }\n",
       "\n",
       "    .dataframe thead tr th {\n",
       "        text-align: left;\n",
       "    }\n",
       "\n",
       "    .dataframe thead tr:last-of-type th {\n",
       "        text-align: right;\n",
       "    }\n",
       "</style>\n",
       "<table border=\"1\" class=\"dataframe\">\n",
       "  <thead>\n",
       "    <tr>\n",
       "      <th></th>\n",
       "      <th colspan=\"3\" halign=\"left\">prices</th>\n",
       "    </tr>\n",
       "    <tr>\n",
       "      <th></th>\n",
       "      <th>mean</th>\n",
       "      <th>min</th>\n",
       "      <th>max</th>\n",
       "    </tr>\n",
       "    <tr>\n",
       "      <th>income_group</th>\n",
       "      <th></th>\n",
       "      <th></th>\n",
       "      <th></th>\n",
       "    </tr>\n",
       "  </thead>\n",
       "  <tbody>\n",
       "    <tr>\n",
       "      <th>High Income</th>\n",
       "      <td>22.076865</td>\n",
       "      <td>1.0</td>\n",
       "      <td>99999.0</td>\n",
       "    </tr>\n",
       "    <tr>\n",
       "      <th>Low Income</th>\n",
       "      <td>7.315359</td>\n",
       "      <td>1.0</td>\n",
       "      <td>14900.0</td>\n",
       "    </tr>\n",
       "    <tr>\n",
       "      <th>Middle Income</th>\n",
       "      <td>9.315296</td>\n",
       "      <td>1.0</td>\n",
       "      <td>99999.0</td>\n",
       "    </tr>\n",
       "  </tbody>\n",
       "</table>\n",
       "</div>"
      ],
      "text/plain": [
       "                  prices              \n",
       "                    mean  min      max\n",
       "income_group                          \n",
       "High Income    22.076865  1.0  99999.0\n",
       "Low Income      7.315359  1.0  14900.0\n",
       "Middle Income   9.315296  1.0  99999.0"
      ]
     },
     "execution_count": 93,
     "metadata": {},
     "output_type": "execute_result"
    }
   ],
   "source": [
    "ic_df.groupby('income_group').agg({'prices': ['mean', 'min', 'max']})"
   ]
  },
  {
   "cell_type": "markdown",
   "id": "b8f1f74d",
   "metadata": {},
   "source": [
    "### Dependants and spending aggregations\n"
   ]
  },
  {
   "cell_type": "code",
   "execution_count": 94,
   "id": "c116a714",
   "metadata": {},
   "outputs": [
    {
     "data": {
      "text/html": [
       "<div>\n",
       "<style scoped>\n",
       "    .dataframe tbody tr th:only-of-type {\n",
       "        vertical-align: middle;\n",
       "    }\n",
       "\n",
       "    .dataframe tbody tr th {\n",
       "        vertical-align: top;\n",
       "    }\n",
       "\n",
       "    .dataframe thead tr th {\n",
       "        text-align: left;\n",
       "    }\n",
       "\n",
       "    .dataframe thead tr:last-of-type th {\n",
       "        text-align: right;\n",
       "    }\n",
       "</style>\n",
       "<table border=\"1\" class=\"dataframe\">\n",
       "  <thead>\n",
       "    <tr>\n",
       "      <th></th>\n",
       "      <th colspan=\"3\" halign=\"left\">prices</th>\n",
       "    </tr>\n",
       "    <tr>\n",
       "      <th></th>\n",
       "      <th>mean</th>\n",
       "      <th>min</th>\n",
       "      <th>max</th>\n",
       "    </tr>\n",
       "    <tr>\n",
       "      <th>dependants</th>\n",
       "      <th></th>\n",
       "      <th></th>\n",
       "      <th></th>\n",
       "    </tr>\n",
       "  </thead>\n",
       "  <tbody>\n",
       "    <tr>\n",
       "      <th>Has Dependants</th>\n",
       "      <td>11.930584</td>\n",
       "      <td>1.0</td>\n",
       "      <td>99999.0</td>\n",
       "    </tr>\n",
       "    <tr>\n",
       "      <th>No Dependants</th>\n",
       "      <td>12.129243</td>\n",
       "      <td>1.0</td>\n",
       "      <td>99999.0</td>\n",
       "    </tr>\n",
       "  </tbody>\n",
       "</table>\n",
       "</div>"
      ],
      "text/plain": [
       "                   prices              \n",
       "                     mean  min      max\n",
       "dependants                             \n",
       "Has Dependants  11.930584  1.0  99999.0\n",
       "No Dependants   12.129243  1.0  99999.0"
      ]
     },
     "execution_count": 94,
     "metadata": {},
     "output_type": "execute_result"
    }
   ],
   "source": [
    "ic_df.groupby('dependants').agg({'prices': ['mean', 'min', 'max']})"
   ]
  },
  {
   "cell_type": "markdown",
   "id": "0e77dafe",
   "metadata": {},
   "source": [
    "### Marital status and and spending aggregations"
   ]
  },
  {
   "cell_type": "code",
   "execution_count": 95,
   "id": "1dc86e6c",
   "metadata": {},
   "outputs": [
    {
     "data": {
      "text/html": [
       "<div>\n",
       "<style scoped>\n",
       "    .dataframe tbody tr th:only-of-type {\n",
       "        vertical-align: middle;\n",
       "    }\n",
       "\n",
       "    .dataframe tbody tr th {\n",
       "        vertical-align: top;\n",
       "    }\n",
       "\n",
       "    .dataframe thead tr th {\n",
       "        text-align: left;\n",
       "    }\n",
       "\n",
       "    .dataframe thead tr:last-of-type th {\n",
       "        text-align: right;\n",
       "    }\n",
       "</style>\n",
       "<table border=\"1\" class=\"dataframe\">\n",
       "  <thead>\n",
       "    <tr>\n",
       "      <th></th>\n",
       "      <th colspan=\"3\" halign=\"left\">prices</th>\n",
       "    </tr>\n",
       "    <tr>\n",
       "      <th></th>\n",
       "      <th>mean</th>\n",
       "      <th>min</th>\n",
       "      <th>max</th>\n",
       "    </tr>\n",
       "    <tr>\n",
       "      <th>Marital_status</th>\n",
       "      <th></th>\n",
       "      <th></th>\n",
       "      <th></th>\n",
       "    </tr>\n",
       "  </thead>\n",
       "  <tbody>\n",
       "    <tr>\n",
       "      <th>divorced/widowed</th>\n",
       "      <td>11.453674</td>\n",
       "      <td>1.0</td>\n",
       "      <td>99999.0</td>\n",
       "    </tr>\n",
       "    <tr>\n",
       "      <th>living with parents and siblings</th>\n",
       "      <td>10.828768</td>\n",
       "      <td>1.0</td>\n",
       "      <td>99999.0</td>\n",
       "    </tr>\n",
       "    <tr>\n",
       "      <th>married</th>\n",
       "      <td>12.005659</td>\n",
       "      <td>1.0</td>\n",
       "      <td>99999.0</td>\n",
       "    </tr>\n",
       "    <tr>\n",
       "      <th>single</th>\n",
       "      <td>12.480849</td>\n",
       "      <td>1.0</td>\n",
       "      <td>99999.0</td>\n",
       "    </tr>\n",
       "  </tbody>\n",
       "</table>\n",
       "</div>"
      ],
      "text/plain": [
       "                                     prices              \n",
       "                                       mean  min      max\n",
       "Marital_status                                           \n",
       "divorced/widowed                  11.453674  1.0  99999.0\n",
       "living with parents and siblings  10.828768  1.0  99999.0\n",
       "married                           12.005659  1.0  99999.0\n",
       "single                            12.480849  1.0  99999.0"
      ]
     },
     "execution_count": 95,
     "metadata": {},
     "output_type": "execute_result"
    }
   ],
   "source": [
    "ic_df.groupby('Marital_status').agg({'prices': ['mean', 'min', 'max']})"
   ]
  },
  {
   "cell_type": "markdown",
   "id": "8b9c3e51",
   "metadata": {},
   "source": [
    "### Frequency and age"
   ]
  },
  {
   "cell_type": "code",
   "execution_count": 97,
   "id": "d493028f",
   "metadata": {},
   "outputs": [
    {
     "data": {
      "text/html": [
       "<div>\n",
       "<style scoped>\n",
       "    .dataframe tbody tr th:only-of-type {\n",
       "        vertical-align: middle;\n",
       "    }\n",
       "\n",
       "    .dataframe tbody tr th {\n",
       "        vertical-align: top;\n",
       "    }\n",
       "\n",
       "    .dataframe thead tr th {\n",
       "        text-align: left;\n",
       "    }\n",
       "\n",
       "    .dataframe thead tr:last-of-type th {\n",
       "        text-align: right;\n",
       "    }\n",
       "</style>\n",
       "<table border=\"1\" class=\"dataframe\">\n",
       "  <thead>\n",
       "    <tr>\n",
       "      <th></th>\n",
       "      <th colspan=\"3\" halign=\"left\">days_since_last_order</th>\n",
       "    </tr>\n",
       "    <tr>\n",
       "      <th></th>\n",
       "      <th>mean</th>\n",
       "      <th>min</th>\n",
       "      <th>max</th>\n",
       "    </tr>\n",
       "    <tr>\n",
       "      <th>age_group</th>\n",
       "      <th></th>\n",
       "      <th></th>\n",
       "      <th></th>\n",
       "    </tr>\n",
       "  </thead>\n",
       "  <tbody>\n",
       "    <tr>\n",
       "      <th>Middle-Aged</th>\n",
       "      <td>11.108966</td>\n",
       "      <td>0.0</td>\n",
       "      <td>30.0</td>\n",
       "    </tr>\n",
       "    <tr>\n",
       "      <th>Senior</th>\n",
       "      <td>11.078641</td>\n",
       "      <td>0.0</td>\n",
       "      <td>30.0</td>\n",
       "    </tr>\n",
       "    <tr>\n",
       "      <th>Young Adult</th>\n",
       "      <td>11.120753</td>\n",
       "      <td>0.0</td>\n",
       "      <td>30.0</td>\n",
       "    </tr>\n",
       "  </tbody>\n",
       "</table>\n",
       "</div>"
      ],
      "text/plain": [
       "            days_since_last_order           \n",
       "                             mean  min   max\n",
       "age_group                                   \n",
       "Middle-Aged             11.108966  0.0  30.0\n",
       "Senior                  11.078641  0.0  30.0\n",
       "Young Adult             11.120753  0.0  30.0"
      ]
     },
     "execution_count": 97,
     "metadata": {},
     "output_type": "execute_result"
    }
   ],
   "source": [
    "ic_df.groupby('age_group').agg({'days_since_last_order': ['mean', 'min', 'max']})"
   ]
  },
  {
   "cell_type": "markdown",
   "id": "dda0c9aa",
   "metadata": {},
   "source": [
    "### Frequency and income"
   ]
  },
  {
   "cell_type": "code",
   "execution_count": 98,
   "id": "21ab7856",
   "metadata": {},
   "outputs": [
    {
     "data": {
      "text/html": [
       "<div>\n",
       "<style scoped>\n",
       "    .dataframe tbody tr th:only-of-type {\n",
       "        vertical-align: middle;\n",
       "    }\n",
       "\n",
       "    .dataframe tbody tr th {\n",
       "        vertical-align: top;\n",
       "    }\n",
       "\n",
       "    .dataframe thead tr th {\n",
       "        text-align: left;\n",
       "    }\n",
       "\n",
       "    .dataframe thead tr:last-of-type th {\n",
       "        text-align: right;\n",
       "    }\n",
       "</style>\n",
       "<table border=\"1\" class=\"dataframe\">\n",
       "  <thead>\n",
       "    <tr>\n",
       "      <th></th>\n",
       "      <th colspan=\"3\" halign=\"left\">days_since_last_order</th>\n",
       "    </tr>\n",
       "    <tr>\n",
       "      <th></th>\n",
       "      <th>mean</th>\n",
       "      <th>min</th>\n",
       "      <th>max</th>\n",
       "    </tr>\n",
       "    <tr>\n",
       "      <th>income_group</th>\n",
       "      <th></th>\n",
       "      <th></th>\n",
       "      <th></th>\n",
       "    </tr>\n",
       "  </thead>\n",
       "  <tbody>\n",
       "    <tr>\n",
       "      <th>High Income</th>\n",
       "      <td>11.024912</td>\n",
       "      <td>0.0</td>\n",
       "      <td>30.0</td>\n",
       "    </tr>\n",
       "    <tr>\n",
       "      <th>Low Income</th>\n",
       "      <td>11.308251</td>\n",
       "      <td>0.0</td>\n",
       "      <td>30.0</td>\n",
       "    </tr>\n",
       "    <tr>\n",
       "      <th>Middle Income</th>\n",
       "      <td>11.037247</td>\n",
       "      <td>0.0</td>\n",
       "      <td>30.0</td>\n",
       "    </tr>\n",
       "  </tbody>\n",
       "</table>\n",
       "</div>"
      ],
      "text/plain": [
       "              days_since_last_order           \n",
       "                               mean  min   max\n",
       "income_group                                  \n",
       "High Income               11.024912  0.0  30.0\n",
       "Low Income                11.308251  0.0  30.0\n",
       "Middle Income             11.037247  0.0  30.0"
      ]
     },
     "execution_count": 98,
     "metadata": {},
     "output_type": "execute_result"
    }
   ],
   "source": [
    "ic_df.groupby('income_group').agg({'days_since_last_order': ['mean', 'min', 'max']})"
   ]
  },
  {
   "cell_type": "markdown",
   "id": "e899ed5f",
   "metadata": {},
   "source": [
    "### Frequency and dependants"
   ]
  },
  {
   "cell_type": "code",
   "execution_count": 99,
   "id": "c220113e",
   "metadata": {},
   "outputs": [
    {
     "data": {
      "text/html": [
       "<div>\n",
       "<style scoped>\n",
       "    .dataframe tbody tr th:only-of-type {\n",
       "        vertical-align: middle;\n",
       "    }\n",
       "\n",
       "    .dataframe tbody tr th {\n",
       "        vertical-align: top;\n",
       "    }\n",
       "\n",
       "    .dataframe thead tr th {\n",
       "        text-align: left;\n",
       "    }\n",
       "\n",
       "    .dataframe thead tr:last-of-type th {\n",
       "        text-align: right;\n",
       "    }\n",
       "</style>\n",
       "<table border=\"1\" class=\"dataframe\">\n",
       "  <thead>\n",
       "    <tr>\n",
       "      <th></th>\n",
       "      <th colspan=\"3\" halign=\"left\">days_since_last_order</th>\n",
       "    </tr>\n",
       "    <tr>\n",
       "      <th></th>\n",
       "      <th>mean</th>\n",
       "      <th>min</th>\n",
       "      <th>max</th>\n",
       "    </tr>\n",
       "    <tr>\n",
       "      <th>dependants</th>\n",
       "      <th></th>\n",
       "      <th></th>\n",
       "      <th></th>\n",
       "    </tr>\n",
       "  </thead>\n",
       "  <tbody>\n",
       "    <tr>\n",
       "      <th>Has Dependants</th>\n",
       "      <td>11.111834</td>\n",
       "      <td>0.0</td>\n",
       "      <td>30.0</td>\n",
       "    </tr>\n",
       "    <tr>\n",
       "      <th>No Dependants</th>\n",
       "      <td>11.080805</td>\n",
       "      <td>0.0</td>\n",
       "      <td>30.0</td>\n",
       "    </tr>\n",
       "  </tbody>\n",
       "</table>\n",
       "</div>"
      ],
      "text/plain": [
       "               days_since_last_order           \n",
       "                                mean  min   max\n",
       "dependants                                     \n",
       "Has Dependants             11.111834  0.0  30.0\n",
       "No Dependants              11.080805  0.0  30.0"
      ]
     },
     "execution_count": 99,
     "metadata": {},
     "output_type": "execute_result"
    }
   ],
   "source": [
    "ic_df.groupby('dependants').agg({'days_since_last_order': ['mean', 'min', 'max']})"
   ]
  },
  {
   "cell_type": "markdown",
   "id": "41afa68e",
   "metadata": {},
   "source": [
    "### Frequency and marital status"
   ]
  },
  {
   "cell_type": "code",
   "execution_count": 100,
   "id": "44dd4c14",
   "metadata": {},
   "outputs": [
    {
     "data": {
      "text/html": [
       "<div>\n",
       "<style scoped>\n",
       "    .dataframe tbody tr th:only-of-type {\n",
       "        vertical-align: middle;\n",
       "    }\n",
       "\n",
       "    .dataframe tbody tr th {\n",
       "        vertical-align: top;\n",
       "    }\n",
       "\n",
       "    .dataframe thead tr th {\n",
       "        text-align: left;\n",
       "    }\n",
       "\n",
       "    .dataframe thead tr:last-of-type th {\n",
       "        text-align: right;\n",
       "    }\n",
       "</style>\n",
       "<table border=\"1\" class=\"dataframe\">\n",
       "  <thead>\n",
       "    <tr>\n",
       "      <th></th>\n",
       "      <th colspan=\"3\" halign=\"left\">days_since_last_order</th>\n",
       "    </tr>\n",
       "    <tr>\n",
       "      <th></th>\n",
       "      <th>mean</th>\n",
       "      <th>min</th>\n",
       "      <th>max</th>\n",
       "    </tr>\n",
       "    <tr>\n",
       "      <th>Marital_status</th>\n",
       "      <th></th>\n",
       "      <th></th>\n",
       "      <th></th>\n",
       "    </tr>\n",
       "  </thead>\n",
       "  <tbody>\n",
       "    <tr>\n",
       "      <th>divorced/widowed</th>\n",
       "      <td>11.047780</td>\n",
       "      <td>0.0</td>\n",
       "      <td>30.0</td>\n",
       "    </tr>\n",
       "    <tr>\n",
       "      <th>living with parents and siblings</th>\n",
       "      <td>11.048170</td>\n",
       "      <td>0.0</td>\n",
       "      <td>30.0</td>\n",
       "    </tr>\n",
       "    <tr>\n",
       "      <th>married</th>\n",
       "      <td>11.116175</td>\n",
       "      <td>0.0</td>\n",
       "      <td>30.0</td>\n",
       "    </tr>\n",
       "    <tr>\n",
       "      <th>single</th>\n",
       "      <td>11.097992</td>\n",
       "      <td>0.0</td>\n",
       "      <td>30.0</td>\n",
       "    </tr>\n",
       "  </tbody>\n",
       "</table>\n",
       "</div>"
      ],
      "text/plain": [
       "                                 days_since_last_order           \n",
       "                                                  mean  min   max\n",
       "Marital_status                                                   \n",
       "divorced/widowed                             11.047780  0.0  30.0\n",
       "living with parents and siblings             11.048170  0.0  30.0\n",
       "married                                      11.116175  0.0  30.0\n",
       "single                                       11.097992  0.0  30.0"
      ]
     },
     "execution_count": 100,
     "metadata": {},
     "output_type": "execute_result"
    }
   ],
   "source": [
    "ic_df.groupby('Marital_status').agg({'days_since_last_order': ['mean', 'min', 'max']})"
   ]
  },
  {
   "cell_type": "markdown",
   "id": "ef733436",
   "metadata": {},
   "source": [
    "# 8. Compare your customer profiles with regions and departments."
   ]
  },
  {
   "cell_type": "markdown",
   "id": "2f4bb9c0",
   "metadata": {},
   "source": [
    "### Grouping region and ages"
   ]
  },
  {
   "cell_type": "code",
   "execution_count": 101,
   "id": "5d0e8598",
   "metadata": {},
   "outputs": [],
   "source": [
    "region_age_counts = ic_df.groupby(['Region','age_group']).size().unstack(fill_value=0)"
   ]
  },
  {
   "cell_type": "code",
   "execution_count": 102,
   "id": "3655ea6b",
   "metadata": {},
   "outputs": [
    {
     "data": {
      "image/png": "[encoded data removed]",
      "text/plain": [
       "<Figure size 640x480 with 1 Axes>"
      ]
     },
     "metadata": {},
     "output_type": "display_data"
    }
   ],
   "source": [
    "# Creating a bar chart for region and ages\n",
    "region_age = region_age_counts.sort_index().plot.bar(stacked=True )"
   ]
  },
  {
   "cell_type": "code",
   "execution_count": 103,
   "id": "d32e0daf",
   "metadata": {},
   "outputs": [],
   "source": [
    "# exporting bar chart\n",
    "region_age.figure.savefig(os.path.join(path, '04 Analysis','Visualizations', 'bar_region_age.png'))"
   ]
  },
  {
   "cell_type": "markdown",
   "id": "91b83e55",
   "metadata": {},
   "source": [
    "### Grouping region and marital status"
   ]
  },
  {
   "cell_type": "code",
   "execution_count": 105,
   "id": "b58d6ce1",
   "metadata": {},
   "outputs": [],
   "source": [
    "mar_region_counts = ic_df.groupby(['Region','Marital_status']).size().unstack(fill_value=0)"
   ]
  },
  {
   "cell_type": "code",
   "execution_count": 106,
   "id": "a7935200",
   "metadata": {},
   "outputs": [
    {
     "data": {
      "image/png": "[encoded data removed]",
      "text/plain": [
       "<Figure size 640x480 with 1 Axes>"
      ]
     },
     "metadata": {},
     "output_type": "display_data"
    }
   ],
   "source": [
    "# Creating a bar chart for marital status and region\n",
    "bar_mar_region = mar_region_counts.sort_index().plot.bar(stacked=True)"
   ]
  },
  {
   "cell_type": "code",
   "execution_count": 107,
   "id": "66ee407c",
   "metadata": {},
   "outputs": [],
   "source": [
    "# exporting chart\n",
    "bar_mar_region.figure.savefig(os.path.join(path, '04 Analysis','Visualizations', 'bar_mar_region.png'))"
   ]
  },
  {
   "cell_type": "markdown",
   "id": "0a6a58fa",
   "metadata": {},
   "source": [
    "### Grouping region and income"
   ]
  },
  {
   "cell_type": "code",
   "execution_count": 108,
   "id": "9864a4b2",
   "metadata": {},
   "outputs": [],
   "source": [
    "region_income_counts = ic_df.groupby(['Region','income_group']).size().unstack(fill_value=0)"
   ]
  },
  {
   "cell_type": "code",
   "execution_count": 109,
   "id": "457939ca",
   "metadata": {},
   "outputs": [
    {
     "data": {
      "image/png": "[encoded data removed]",
      "text/plain": [
       "<Figure size 640x480 with 1 Axes>"
      ]
     },
     "metadata": {},
     "output_type": "display_data"
    }
   ],
   "source": [
    "# Creating a bar chart for region and income\n",
    "bar_region_income = region_income_counts.sort_index().plot.bar(stacked=True)"
   ]
  },
  {
   "cell_type": "code",
   "execution_count": 110,
   "id": "f61c22dd",
   "metadata": {},
   "outputs": [],
   "source": [
    "# exporting chart\n",
    "bar_region_income.figure.savefig(os.path.join(path, '04 Analysis', 'Visualizations', 'bar_region_income.png'))"
   ]
  },
  {
   "cell_type": "markdown",
   "id": "8e872ae8",
   "metadata": {},
   "source": [
    "### Grouping region and dependants"
   ]
  },
  {
   "cell_type": "code",
   "execution_count": 111,
   "id": "a01f4b06",
   "metadata": {},
   "outputs": [],
   "source": [
    "region_depend_counts = ic_df.groupby(['Region', 'dependants']).size().unstack(fill_value=0)"
   ]
  },
  {
   "cell_type": "code",
   "execution_count": 112,
   "id": "43516737",
   "metadata": {},
   "outputs": [
    {
     "data": {
      "image/png": "[encoded data removed]",
      "text/plain": [
       "<Figure size 640x480 with 1 Axes>"
      ]
     },
     "metadata": {},
     "output_type": "display_data"
    }
   ],
   "source": [
    "# Creating a bar chart for region and dependants\n",
    "bar_region_depend = region_depend_counts.sort_index().plot.bar(stacked=True)"
   ]
  },
  {
   "cell_type": "code",
   "execution_count": 113,
   "id": "f0088105",
   "metadata": {},
   "outputs": [],
   "source": [
    "# exporting chart\n",
    "bar_region_depend.figure.savefig(os.path.join(path, '04 Analysis', 'Visualizations', 'bar_region_depend.png'))"
   ]
  },
  {
   "cell_type": "markdown",
   "id": "0707c5f2",
   "metadata": {},
   "source": [
    "# 9. Export final data set"
   ]
  },
  {
   "cell_type": "code",
   "execution_count": 116,
   "id": "637ec823",
   "metadata": {},
   "outputs": [],
   "source": [
    "# exporting final data\n",
    "ic_df.to_pickle(os.path.join(path, '02 Data','Prepared Data', 'ic_data_final.pkl'))"
   ]
  }
 ],
 "metadata": {
  "kernelspec": {
   "display_name": "Python 3 (ipykernel)",
   "language": "python",
   "name": "python3"
  },
  "language_info": {
   "codemirror_mode": {
    "name": "ipython",
    "version": 3
   },
   "file_extension": ".py",
   "mimetype": "text/x-python",
   "name": "python",
   "nbconvert_exporter": "python",
   "pygments_lexer": "ipython3",
   "version": "3.10.9"
  }
 },
 "nbformat": 4,
 "nbformat_minor": 5
}
