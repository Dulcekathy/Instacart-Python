{
 "cells": [
  {
   "cell_type": "markdown",
   "id": "f9731e65",
   "metadata": {},
   "source": [
    "# 01. Importing libraries "
   ]
  },
  {
   "cell_type": "code",
   "execution_count": 1,
   "id": "9b9849eb",
   "metadata": {},
   "outputs": [],
   "source": [
    "# Import libraries\n",
    "import pandas as pd\n",
    "import numpy as np\n",
    "import os"
   ]
  },
  {
   "cell_type": "code",
   "execution_count": null,
   "id": "95f33692",
   "metadata": {},
   "outputs": [],
   "source": []
  },
  {
   "cell_type": "markdown",
   "id": "75e8281b",
   "metadata": {},
   "source": [
    "# 02. Data types"
   ]
  },
  {
   "cell_type": "code",
   "execution_count": 8,
   "id": "3fcb4a8d",
   "metadata": {},
   "outputs": [],
   "source": [
    "x = 250"
   ]
  },
  {
   "cell_type": "code",
   "execution_count": 4,
   "id": "891153fb",
   "metadata": {},
   "outputs": [],
   "source": [
    "y = 150"
   ]
  },
  {
   "cell_type": "code",
   "execution_count": 5,
   "id": "c3948f60",
   "metadata": {},
   "outputs": [],
   "source": [
    "z = 50"
   ]
  },
  {
   "cell_type": "code",
   "execution_count": 6,
   "id": "4f8d0fdb",
   "metadata": {},
   "outputs": [
    {
     "data": {
      "text/plain": [
       "100"
      ]
     },
     "execution_count": 6,
     "metadata": {},
     "output_type": "execute_result"
    }
   ],
   "source": [
    "y - z"
   ]
  },
  {
   "cell_type": "code",
   "execution_count": 7,
   "id": "30624bfa",
   "metadata": {},
   "outputs": [
    {
     "data": {
      "text/plain": [
       "100"
      ]
     },
     "execution_count": 7,
     "metadata": {},
     "output_type": "execute_result"
    }
   ],
   "source": [
    "z + z"
   ]
  },
  {
   "cell_type": "code",
   "execution_count": 9,
   "id": "47852046",
   "metadata": {},
   "outputs": [
    {
     "data": {
      "text/plain": [
       "100"
      ]
     },
     "execution_count": 9,
     "metadata": {},
     "output_type": "execute_result"
    }
   ],
   "source": [
    "x - y"
   ]
  },
  {
   "cell_type": "code",
   "execution_count": 10,
   "id": "0ef155a2",
   "metadata": {},
   "outputs": [],
   "source": [
    "a = 5.678"
   ]
  },
  {
   "cell_type": "code",
   "execution_count": 11,
   "id": "f3a9368b",
   "metadata": {},
   "outputs": [],
   "source": [
    "b = 3.321"
   ]
  },
  {
   "cell_type": "code",
   "execution_count": 12,
   "id": "518e6573",
   "metadata": {},
   "outputs": [
    {
     "data": {
      "text/plain": [
       "1.7097259861487504"
      ]
     },
     "execution_count": 12,
     "metadata": {},
     "output_type": "execute_result"
    }
   ],
   "source": [
    "a / b"
   ]
  },
  {
   "cell_type": "code",
   "execution_count": 13,
   "id": "71564b9e",
   "metadata": {},
   "outputs": [],
   "source": [
    "c = 'sun'"
   ]
  },
  {
   "cell_type": "code",
   "execution_count": 14,
   "id": "f6cfb31d",
   "metadata": {},
   "outputs": [],
   "source": [
    "d = 'shine'"
   ]
  },
  {
   "cell_type": "code",
   "execution_count": 15,
   "id": "be9e06f6",
   "metadata": {},
   "outputs": [
    {
     "data": {
      "text/plain": [
       "'sunshine'"
      ]
     },
     "execution_count": 15,
     "metadata": {},
     "output_type": "execute_result"
    }
   ],
   "source": [
    "c + d"
   ]
  },
  {
   "cell_type": "code",
   "execution_count": 21,
   "id": "fd69e208",
   "metadata": {},
   "outputs": [],
   "source": [
    "e = 'I '  "
   ]
  },
  {
   "cell_type": "code",
   "execution_count": 22,
   "id": "28963e76",
   "metadata": {},
   "outputs": [],
   "source": [
    "f = 'love ' "
   ]
  },
  {
   "cell_type": "code",
   "execution_count": 27,
   "id": "ccca5a00",
   "metadata": {},
   "outputs": [],
   "source": [
    "g = 'Fridays!'"
   ]
  },
  {
   "cell_type": "code",
   "execution_count": 28,
   "id": "5a44e422",
   "metadata": {},
   "outputs": [
    {
     "data": {
      "text/plain": [
       "'I love Fridays!'"
      ]
     },
     "execution_count": 28,
     "metadata": {},
     "output_type": "execute_result"
    }
   ],
   "source": [
    "e + f + g"
   ]
  },
  {
   "cell_type": "code",
   "execution_count": 24,
   "id": "d91ce889",
   "metadata": {},
   "outputs": [],
   "source": [
    "h = 'hate '"
   ]
  },
  {
   "cell_type": "code",
   "execution_count": 25,
   "id": "9b517c47",
   "metadata": {},
   "outputs": [],
   "source": [
    "i = 'Mondays.'"
   ]
  },
  {
   "cell_type": "code",
   "execution_count": 26,
   "id": "c756ab7f",
   "metadata": {},
   "outputs": [
    {
     "data": {
      "text/plain": [
       "'I hate Mondays.'"
      ]
     },
     "execution_count": 26,
     "metadata": {},
     "output_type": "execute_result"
    }
   ],
   "source": [
    "e + h + i"
   ]
  },
  {
   "cell_type": "code",
   "execution_count": null,
   "id": "8d452d00",
   "metadata": {},
   "outputs": [],
   "source": []
  }
 ],
 "metadata": {
  "kernelspec": {
   "display_name": "Python 3 (ipykernel)",
   "language": "python",
   "name": "python3"
  },
  "language_info": {
   "codemirror_mode": {
    "name": "ipython",
    "version": 3
   },
   "file_extension": ".py",
   "mimetype": "text/x-python",
   "name": "python",
   "nbconvert_exporter": "python",
   "pygments_lexer": "ipython3",
   "version": "3.10.9"
  }
 },
 "nbformat": 4,
 "nbformat_minor": 5
}
